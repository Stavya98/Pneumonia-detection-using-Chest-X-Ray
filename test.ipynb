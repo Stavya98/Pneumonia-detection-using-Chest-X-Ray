{
 "cells": [
  {
   "cell_type": "code",
   "execution_count": 4,
   "id": "1bb827f3",
   "metadata": {},
   "outputs": [
    {
     "name": "stderr",
     "output_type": "stream",
     "text": [
      "C:\\Users\\Stavya\\AppData\\Local\\Temp\\ipykernel_25760\\1668419044.py:12: FutureWarning: You are using `torch.load` with `weights_only=False` (the current default value), which uses the default pickle module implicitly. It is possible to construct malicious pickle data which will execute arbitrary code during unpickling (See https://github.com/pytorch/pytorch/blob/main/SECURITY.md#untrusted-models for more details). In a future release, the default value for `weights_only` will be flipped to `True`. This limits the functions that could be executed during unpickling. Arbitrary objects will no longer be allowed to be loaded via this mode unless they are explicitly allowlisted by the user via `torch.serialization.add_safe_globals`. We recommend you start setting `weights_only=True` for any use case where you don't have full control of the loaded file. Please open an issue on GitHub for any issues related to this experimental feature.\n",
      "  model.load_state_dict(torch.load(\"pneu.pth\", map_location=device))\n"
     ]
    }
   ],
   "source": [
    "from PIL import Image\n",
    "import torch\n",
    "from torchvision import models, transforms\n",
    "import torch.nn as nn\n",
    "\n",
    "\n",
    "# Load Model\n",
    "device = torch.device(\"cuda\" if torch.cuda.is_available() else \"cpu\")\n",
    "\n",
    "model = models.resnet18(weights=None)   # same arch as training\n",
    "model.fc = nn.Linear(model.fc.in_features, 2)  # 2 classes (NORMAL, PNEUMONIA)\n",
    "model.load_state_dict(torch.load(\"pneu.pth\", map_location=device))\n",
    "model = model.to(device)\n",
    "model.eval()\n",
    "\n",
    "\n",
    "# Preprocessing\n",
    "transform = transforms.Compose([\n",
    "    transforms.Resize((224, 224)),\n",
    "    transforms.ToTensor(),\n",
    "    transforms.Normalize([0.485, 0.456, 0.406],\n",
    "                         [0.229, 0.224, 0.225])\n",
    "])\n",
    "\n",
    "class_names = [\"NORMAL\", \"PNEUMONIA\"]  # adjust if different\n",
    "\n",
    "\n",
    "# Prediction Function\n",
    "def predict_image(image_path):\n",
    "    img = Image.open(image_path).convert(\"RGB\")\n",
    "    img_t = transform(img).unsqueeze(0).to(device)  # add batch dimension\n",
    "    \n",
    "    with torch.no_grad():\n",
    "        outputs = model(img_t)\n",
    "        _, pred = torch.max(outputs, 1)\n",
    "    \n",
    "    return class_names[pred.item()]\n"
   ]
  },
  {
   "cell_type": "code",
   "execution_count": 3,
   "id": "47c3d96e",
   "metadata": {},
   "outputs": [
    {
     "name": "stdout",
     "output_type": "stream",
     "text": [
      "Prediction: NORMAL\n"
     ]
    }
   ],
   "source": [
    "image_path = r\"D:/code/Pneumonia Detection/chest_xray/val/NORMAL/NORMAL2-IM-1430-0001.jpeg\"  # 🔹 put your path\n",
    "print(\"Prediction:\", predict_image(image_path))"
   ]
  }
 ],
 "metadata": {
  "kernelspec": {
   "display_name": "Python 3",
   "language": "python",
   "name": "python3"
  },
  "language_info": {
   "codemirror_mode": {
    "name": "ipython",
    "version": 3
   },
   "file_extension": ".py",
   "mimetype": "text/x-python",
   "name": "python",
   "nbconvert_exporter": "python",
   "pygments_lexer": "ipython3",
   "version": "3.12.6"
  }
 },
 "nbformat": 4,
 "nbformat_minor": 5
}
